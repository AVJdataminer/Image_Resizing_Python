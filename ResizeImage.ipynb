{
 "cells": [
  {
   "cell_type": "markdown",
   "metadata": {},
   "source": [
    "Simple example for resizing one image."
   ]
  },
  {
   "cell_type": "code",
   "execution_count": 16,
   "metadata": {
    "collapsed": true
   },
   "outputs": [],
   "source": [
    "from PIL import Image\n",
    "import numpy as np\n",
    "img = Image.open(\"MyImage.png\")\n",
    "new_width  = 1000\n",
    "new_height = 1000\n",
    "img = img.resize((new_width, new_height), Image.ANTIALIAS)\n",
    "img.save('output image name.png') # format may what u want ,*.png,*jpg,*.gif"
   ]
  },
  {
   "cell_type": "markdown",
   "metadata": {},
   "source": [
    "This next function allows image resizing based on a final size but keeps the background to a square. The end result is often a black border around non-square images. Next, function removes the black boxes."
   ]
  },
  {
   "cell_type": "code",
   "execution_count": 6,
   "metadata": {
    "collapsed": true
   },
   "outputs": [],
   "source": [
    "\n",
    "#!/usr/bin/python\n",
    "from PIL import Image\n",
    "import os, sys\n",
    "\n",
    "path = \"/Users/aidenjohnson/Library/Mobile Documents/com~apple~CloudDocs/Thinkful/Question_building_figures_tables_notebooks/\"\n",
    "\n",
    "dirs = [file for file in os.listdir(path) if file.endswith('.png')]\n",
    "\n",
    "final_size = 500;\n",
    "\n",
    "def resize_aspect_fit():\n",
    "    for item in dirs:\n",
    "         if item == '.DS_Store':\n",
    "             continue\n",
    "         if os.path.isfile(path+item):\n",
    "             im = Image.open(path+item)\n",
    "             f, e = os.path.splitext(path+item)\n",
    "             size = im.size\n",
    "             ratio = float(final_size) / max(size)\n",
    "             new_image_size = tuple([int(x*ratio) for x in size])\n",
    "             im = im.resize(new_image_size, Image.ANTIALIAS)\n",
    "             new_im = Image.new(\"RGB\", (final_size, final_size))\n",
    "             new_im.paste(im, ((final_size-new_image_size[0])//2, (final_size-new_image_size[1])//2))\n",
    "             new_im.save(f + 'resized.jpg', 'JPEG')\n",
    "resize_aspect_fit()"
   ]
  },
  {
   "cell_type": "markdown",
   "metadata": {},
   "source": [
    "Hooray! This funciton uses the thumbnail approach to create resized images with intact aspect ratio and no black backgrounds."
   ]
  },
  {
   "cell_type": "code",
   "execution_count": 27,
   "metadata": {},
   "outputs": [],
   "source": [
    "import PIL\n",
    "from PIL import Image\n",
    "import os\n",
    "import sys\n",
    " \n",
    "path = \"/Users/aidenjohnson/Library/Mobile Documents/com~apple~CloudDocs/Thinkful/Question_building_figures_tables_notebooks/regression_challenge_Figures/\"\n",
    "\n",
    "dirs = [file for file in os.listdir(path) if file.endswith('.png')]\n",
    "\n",
    "#pixelsize = 500;\n",
    "\n",
    "def resize_thumbnail():\n",
    "    for item in dirs:\n",
    "        if os.path.isfile(path+item):\n",
    "            image = Image.open(path+item)\n",
    "            file_path, extension = os.path.splitext(path+item)\n",
    "        image = Image.open(path+item)\n",
    "        image.thumbnail((500,500), Image.ANTIALIAS)\n",
    "        if image.mode in (\"RGBA\", \"P\"):\n",
    "               image = image.convert(\"RGB\")\n",
    "        image.save(file_path + \"_thumb.jpg\" ,'JPEG', quality=90)\n",
    "\n",
    "resize_thumbnail()\n"
   ]
  },
  {
   "cell_type": "code",
   "execution_count": null,
   "metadata": {},
   "outputs": [],
   "source": []
  }
 ],
 "metadata": {
  "kernelspec": {
   "display_name": "Python 3",
   "language": "python",
   "name": "python3"
  },
  "language_info": {
   "codemirror_mode": {
    "name": "ipython",
    "version": 3
   },
   "file_extension": ".py",
   "mimetype": "text/x-python",
   "name": "python",
   "nbconvert_exporter": "python",
   "pygments_lexer": "ipython3",
   "version": "3.7.4-final"
  }
 },
 "nbformat": 4,
 "nbformat_minor": 2
}